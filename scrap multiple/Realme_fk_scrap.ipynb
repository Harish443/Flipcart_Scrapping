{
 "cells": [
  {
   "cell_type": "code",
   "execution_count": 22,
   "id": "99b1ee3d-e08b-424d-99bd-452a0c6566e3",
   "metadata": {
    "tags": []
   },
   "outputs": [],
   "source": [
    "from bs4 import BeautifulSoup\n",
    "import requests\n",
    "import csv\n"
   ]
  },
  {
   "cell_type": "code",
   "execution_count": 23,
   "id": "8fad5f9d-3b8a-4e3e-96d6-d5aad6b6fa3a",
   "metadata": {
    "tags": []
   },
   "outputs": [],
   "source": [
    "headers = {\"User-Agent\": \"Mozilla/5.0 (Macintosh; Intel Mac OS X 10_15_7) AppleWebKit/605.1.15 (KHTML, like Gecko) Version/16.6 Safari/605.1.15\", \"Accept-Encoding\":\"gzip, deflate,UTF-8\", \"Accept\":\"text/html,application/xhtml+xml,application/xml;q=0.9,*/*;q=0.8\", \"DNT\":\"1\",\"Connection\":\"close\", \"Upgrade-Insecure-Requests\":\"1\"}"
   ]
  },
  {
   "cell_type": "code",
   "execution_count": 24,
   "id": "1f914f64-b6f6-4c2d-8dc8-328750b38163",
   "metadata": {
    "tags": []
   },
   "outputs": [],
   "source": [
    "url = \"https://www.flipkart.com/mobiles/pr?sid=tyy%2C4io&p%5B%5D=facets.brand%255B%255D%3Drealme&p%5B%5D=facets.availability%255B%255D%3DExclude%2BOut%2Bof%2BStock&param=7564&ctx=eyJjYXJkQ29udGV4dCI6eyJhdHRyaWJ1dGVzIjp7InRpdGxlIjp7Im11bHRpVmFsdWVkQXR0cmlidXRlIjp7ImtleSI6InRpdGxlIiwiaW5mZXJlbmNlVHlwZSI6IlRJVExFIiwidmFsdWVzIjpbIlJlYWxtZSJdLCJ2YWx1ZVR5cGUiOiJNVUxUSV9WQUxVRUQifX19fX0%3D&otracker=clp_metro_expandable_1_5.metroExpandable.METRO_EXPANDABLE_Realme_mobile-phones-store_Q1PDG4YW86MF_wp2&fm=neo%2Fmerchandising&iid=M_4f8b0b0d-b9ed-474d-81c7-4d984f672949_5.Q1PDG4YW86MF&ppt=clp&ppn=mobile-phones-store&ssid=nsjzj4upyx0wtxq81693205107086\"\n",
    "\n",
    "\n",
    "\n"
   ]
  },
  {
   "cell_type": "code",
   "execution_count": 62,
   "id": "f57cef7c-9f25-4786-b775-8081ad9189f1",
   "metadata": {
    "tags": []
   },
   "outputs": [],
   "source": [
    "import csv \n",
    "\n",
    "header = ['Model', 'Price', 'Spec']\n",
    "\n",
    "with open('FlipCart_Scrap.csv', 'w', newline='', encoding='UTF8') as f:\n",
    "    writer = csv.writer(f)\n",
    "    writer.writerow(header)\n",
    "  "
   ]
  },
  {
   "cell_type": "code",
   "execution_count": 64,
   "id": "3fe92568-3a2c-4416-a7a3-0ff056eaa5ff",
   "metadata": {
    "tags": []
   },
   "outputs": [],
   "source": [
    "for i in range(1,13):\n",
    "    req = requests.get(url + \"&page=\" + str(i))\n",
    "    soup = BeautifulSoup(req.text, \"html.parser\")\n",
    "    models = soup.find(\"div\",class_=\"_36fx1h _6t1WkM _3HqJxg\").find_all(\"div\",class_=\"_2kHMtA\")\n",
    "    \n",
    "    for each in models:\n",
    "        model = each.find(\"div\",class_=\"_4rR01T\").text.strip()\n",
    "        price = each.find(\"div\",class_=\"_30jeq3 _1_WHN1\").text.strip()\n",
    "        specific = each.find_all(\"li\",class_=\"rgWa7D\")[:1]\n",
    "        for i in specific:\n",
    "            spec = i.text.strip()\n",
    "        with open('FlipCart_Scrap.csv', 'a+', newline='', encoding='UTF8') as f:\n",
    "            data = [model,price,spec]\n",
    "            writer = csv.writer(f)\n",
    "            writer.writerow(data)\n",
    "        \n",
    "     "
   ]
  },
  {
   "cell_type": "code",
   "execution_count": null,
   "id": "8bd61a2a-c9d4-451a-a68a-5028984cbd38",
   "metadata": {},
   "outputs": [],
   "source": []
  },
  {
   "cell_type": "code",
   "execution_count": null,
   "id": "de9ba0ac-9205-45e4-ac07-b6dfc795ce04",
   "metadata": {
    "tags": []
   },
   "outputs": [],
   "source": []
  },
  {
   "cell_type": "code",
   "execution_count": null,
   "id": "567edbf1-1dd6-4355-9a37-1bdccb7537b6",
   "metadata": {},
   "outputs": [],
   "source": []
  },
  {
   "cell_type": "code",
   "execution_count": null,
   "id": "83e2c979-eeaf-4e29-b57d-72c32fd9fc20",
   "metadata": {},
   "outputs": [],
   "source": []
  }
 ],
 "metadata": {
  "kernelspec": {
   "display_name": "Python 3 (ipykernel)",
   "language": "python",
   "name": "python3"
  },
  "language_info": {
   "codemirror_mode": {
    "name": "ipython",
    "version": 3
   },
   "file_extension": ".py",
   "mimetype": "text/x-python",
   "name": "python",
   "nbconvert_exporter": "python",
   "pygments_lexer": "ipython3",
   "version": "3.11.4"
  }
 },
 "nbformat": 4,
 "nbformat_minor": 5
}
