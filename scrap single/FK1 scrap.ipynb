{
 "cells": [
  {
   "cell_type": "markdown",
   "id": "ae2ddb64-3e60-4872-8ddb-2876a32daffb",
   "metadata": {},
   "source": [
    "Scrapping an flipcart page and adding the data to the csv file\n",
    "\n"
   ]
  },
  {
   "cell_type": "code",
   "execution_count": 67,
   "id": "99b1ee3d-e08b-424d-99bd-452a0c6566e3",
   "metadata": {
    "tags": []
   },
   "outputs": [],
   "source": [
    "from bs4 import BeautifulSoup\n",
    "import requests"
   ]
  },
  {
   "cell_type": "code",
   "execution_count": 83,
   "id": "1f914f64-b6f6-4c2d-8dc8-328750b38163",
   "metadata": {
    "tags": []
   },
   "outputs": [],
   "source": [
    "url = \"https://www.flipkart.com/mobiles/pr?sid=tyy%2C4io&p%5B%5D=facets.brand%255B%255D%3Drealme&p%5B%5D=facets.availability%255B%255D%3DExclude%2BOut%2Bof%2BStock&param=7564&ctx=eyJjYXJkQ29udGV4dCI6eyJhdHRyaWJ1dGVzIjp7InRpdGxlIjp7Im11bHRpVmFsdWVkQXR0cmlidXRlIjp7ImtleSI6InRpdGxlIiwiaW5mZXJlbmNlVHlwZSI6IlRJVExFIiwidmFsdWVzIjpbIlJlYWxtZSJdLCJ2YWx1ZVR5cGUiOiJNVUxUSV9WQUxVRUQifX19fX0%3D&otracker=clp_metro_expandable_1_5.metroExpandable.METRO_EXPANDABLE_Realme_mobile-phones-store_Q1PDG4YW86MF_wp2&fm=neo%2Fmerchandising&iid=M_4f8b0b0d-b9ed-474d-81c7-4d984f672949_5.Q1PDG4YW86MF&ppt=clp&ppn=mobile-phones-store&ssid=nsjzj4upyx0wtxq81693205107086&page=1\""
   ]
  },
  {
   "cell_type": "code",
   "execution_count": 84,
   "id": "8fad5f9d-3b8a-4e3e-96d6-d5aad6b6fa3a",
   "metadata": {
    "tags": []
   },
   "outputs": [],
   "source": [
    "headers = {\"User-Agent\": \"Mozilla/5.0 (Macintosh; Intel Mac OS X 10_15_7) AppleWebKit/605.1.15 (KHTML, like Gecko) Version/16.6 Safari/605.1.15\", \"Accept-Encoding\":\"gzip, deflate,UTF-8\", \"Accept\":\"text/html,application/xhtml+xml,application/xml;q=0.9,*/*;q=0.8\", \"DNT\":\"1\",\"Connection\":\"close\", \"Upgrade-Insecure-Requests\":\"1\"}"
   ]
  },
  {
   "cell_type": "code",
   "execution_count": 85,
   "id": "7fad248e-a3c8-4033-bb28-ac045fe80ed4",
   "metadata": {
    "tags": []
   },
   "outputs": [],
   "source": [
    "page = requests.get(url, headers=headers)\n"
   ]
  },
  {
   "cell_type": "code",
   "execution_count": 86,
   "id": "5f85f25f-27e8-4675-a13c-44cc0be5c851",
   "metadata": {
    "tags": []
   },
   "outputs": [],
   "source": [
    "soup1 = BeautifulSoup(page.content, \"html.parser\")\n",
    "\n"
   ]
  },
  {
   "cell_type": "code",
   "execution_count": 87,
   "id": "0cbb38b1-5b05-4759-aae3-15d930d3c401",
   "metadata": {
    "tags": []
   },
   "outputs": [],
   "source": [
    "soup2 = BeautifulSoup(soup1.prettify(), \"html.parser\")\n"
   ]
  },
  {
   "cell_type": "code",
   "execution_count": 88,
   "id": "ed25c70a-06d8-46e2-86c6-1190bdec9de0",
   "metadata": {
    "tags": []
   },
   "outputs": [],
   "source": [
    "models = soup2.find(\"div\",class_=\"_36fx1h _6t1WkM _3HqJxg\").find_all(\"div\",class_=\"_2kHMtA\")"
   ]
  },
  {
   "cell_type": "code",
   "execution_count": 89,
   "id": "ad784879-a145-47cb-947f-2f33b1b52f55",
   "metadata": {
    "tags": []
   },
   "outputs": [],
   "source": [
    "import csv \n",
    "\n",
    "header = ['Model', 'Price', 'Offer']\n",
    "\n",
    "with open('flipcart1pagescrap.csv', 'w', newline='', encoding='UTF8') as f:\n",
    "    writer = csv.writer(f)\n",
    "    writer.writerow(header)\n",
    "  "
   ]
  },
  {
   "cell_type": "code",
   "execution_count": 90,
   "id": "1f18e5d3-003e-4bda-9e4c-803edec78d32",
   "metadata": {
    "tags": []
   },
   "outputs": [],
   "source": [
    "for each in models:\n",
    "    model = each.find(\"div\",class_=\"_4rR01T\").text.strip()\n",
    "    price = each.find(\"div\",class_=\"_30jeq3 _1_WHN1\").text.strip()[1:]\n",
    "    offer = each.find(\"div\",class_=\"_3Ay6Sb\").text.strip()[:3]\n",
    "    with open('flipcart1pagescrap.csv', 'a+', newline='', encoding='UTF8') as f:\n",
    "        data = [model,price,offer]\n",
    "        writer = csv.writer(f)\n",
    "        writer.writerow(data)\n",
    "   "
   ]
  },
  {
   "cell_type": "code",
   "execution_count": null,
   "id": "83e2c979-eeaf-4e29-b57d-72c32fd9fc20",
   "metadata": {},
   "outputs": [],
   "source": [
    " "
   ]
  },
  {
   "cell_type": "code",
   "execution_count": null,
   "id": "e531fb3d-2a3c-45cc-9ac8-06188ea30779",
   "metadata": {},
   "outputs": [],
   "source": []
  }
 ],
 "metadata": {
  "kernelspec": {
   "display_name": "Python 3 (ipykernel)",
   "language": "python",
   "name": "python3"
  },
  "language_info": {
   "codemirror_mode": {
    "name": "ipython",
    "version": 3
   },
   "file_extension": ".py",
   "mimetype": "text/x-python",
   "name": "python",
   "nbconvert_exporter": "python",
   "pygments_lexer": "ipython3",
   "version": "3.11.4"
  }
 },
 "nbformat": 4,
 "nbformat_minor": 5
}
